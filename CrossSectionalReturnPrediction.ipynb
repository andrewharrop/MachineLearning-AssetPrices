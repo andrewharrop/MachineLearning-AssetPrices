{
 "cells": [
  {
   "cell_type": "code",
   "execution_count": 13,
   "metadata": {},
   "outputs": [],
   "source": [
    "import numpy as np\n",
    "import yfinance as yf\n",
    "\n",
    "from sklearn.linear_model import LinearRegression"
   ]
  },
  {
   "cell_type": "markdown",
   "metadata": {},
   "source": [
    "Simple models that look only at past performance\n",
    "\n",
    "The basic representation of this is E(r<sub>i, t+1</sub>|<i>x</i><sub>i,t</sub>) = <i>f</i>(<i>x</i><sub>i,t</sub>)"
   ]
  },
  {
   "cell_type": "markdown",
   "metadata": {},
   "source": [
    "One possible model is a function of n lags of monthly return. To avoid microstructure contamination, we will ignore the first lag. Adding second and third order relationships allow the model to account for nonlinearities in the relationship.\n",
    "\n",
    "The model can be repreresented like so:\n",
    "\n",
    "r<sub>i, t+1</sub> = $\\sum_{i=1}^{n-1} b_i$\tr<sub>i, t-k</sub> + $\\sum_{i=1}^{n-1} c_i$\tr<sub>i, t-k</sub><sup>2</sup> +$\\sum_{i=1}^{n-1} d_i$\tr<sub>i, t-k</sub><sup>3</sup> + e<sub>i, t+1</sub>\n"
   ]
  },
  {
   "cell_type": "code",
   "execution_count": 23,
   "metadata": {},
   "outputs": [
    {
     "data": {
      "text/plain": [
       "(4, 119, 1)"
      ]
     },
     "execution_count": 23,
     "metadata": {},
     "output_type": "execute_result"
    }
   ],
   "source": [
    "monthly_returns_spy = yf.download('SPY', start='2010-01-01', end='2023-09-22', progress=False, interval='1mo')['Adj Close'].pct_change().dropna()\n",
    "monthly_returns_spy = monthly_returns_spy[-120:-1]\n",
    "X = np.array([np.array(monthly_returns_spy).reshape(-1, 1)**3,np.array(monthly_returns_spy).reshape(-1, 1)**2, np.array(monthly_returns_spy).reshape(-1, 1), np.ones((len(monthly_returns_spy), 1))])\n",
    "X.shape"
   ]
  },
  {
   "cell_type": "code",
   "execution_count": 24,
   "metadata": {},
   "outputs": [],
   "source": [
    "model = LinearRegression()\n"
   ]
  },
  {
   "cell_type": "code",
   "execution_count": null,
   "metadata": {},
   "outputs": [],
   "source": []
  }
 ],
 "metadata": {
  "kernelspec": {
   "display_name": "tf",
   "language": "python",
   "name": "python3"
  },
  "language_info": {
   "codemirror_mode": {
    "name": "ipython",
    "version": 3
   },
   "file_extension": ".py",
   "mimetype": "text/x-python",
   "name": "python",
   "nbconvert_exporter": "python",
   "pygments_lexer": "ipython3",
   "version": "3.9.7"
  },
  "orig_nbformat": 4
 },
 "nbformat": 4,
 "nbformat_minor": 2
}
